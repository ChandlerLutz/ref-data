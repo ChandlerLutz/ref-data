{
  "metadata": {
    "kernelspec": {
      "name": "python",
      "display_name": "Python (Pyodide)",
      "language": "python"
    },
    "language_info": {
      "codemirror_mode": {
        "name": "python",
        "version": 3
      },
      "file_extension": ".py",
      "mimetype": "text/x-python",
      "name": "python",
      "nbconvert_exporter": "python",
      "pygments_lexer": "ipython3",
      "version": "3.8"
    }
  },
  "nbformat_minor": 5,
  "nbformat": 4,
  "cells": [
    {
      "id": "f40e1fe9-ff41-465c-b552-c9d13086facb",
      "cell_type": "markdown",
      "source": "# Install Packages",
      "metadata": {}
    },
    {
      "id": "3943faa6-b7ef-47e9-8fc8-775904945ae0",
      "cell_type": "code",
      "source": "import importlib\nimport asyncio\n\n# List of packages to check/install\npkgs_to_check = [\"numpy_financial\", \"pandas\", \"plotnine\", \"numpy\"]\n\nasync def install_and_import_packages():\n    \"\"\"\n    Attempts to import packages, and if not found, tries to install them\n    using micropip in a Pyodide environment.\n    \"\"\"\n    try:\n        import micropip\n        print(\"Running in Pyodide. Using micropip.\")\n    except ImportError:\n        print(\"Not in Pyodide. Micropip not found. This code is for Pyodide/JupyterLite.\")\n        return\n\n    for pkg in pkgs_to_check:\n        if pkg == \"math\": # 'math' is a built-in module\n            print(f\"'{pkg}' is built-in.\")\n            continue\n\n        try:\n            importlib.import_module(pkg)\n            print(f\"'{pkg}' is available.\")\n        except ImportError:\n            print(f\"'{pkg}' not found. Installing...\")\n            try:\n                await micropip.install(pkg)\n                print(f\"'{pkg}' installed successfully.\")\n            except Exception as e:\n                print(f\"Error installing '{pkg}': {e}\")\n                print(\"Note: Packages with C extensions may not install in Pyodide.\")\n\n# Run the async function\nasyncio.create_task(install_and_import_packages())",
      "metadata": {
        "trusted": true
      },
      "outputs": [],
      "execution_count": null
    },
    {
      "id": "68b6e304-cbc9-48fe-bbbc-b20dd2ce671d",
      "cell_type": "markdown",
      "source": "# Import Packages",
      "metadata": {}
    },
    {
      "id": "94aa0e1c-3629-4c63-b40e-9a59a5e07b94",
      "cell_type": "code",
      "source": "import pandas as pd\nimport numpy_financial as npf\nimport plotnine as p9\n\n# Add more package imports as you need them here:\n",
      "metadata": {
        "trusted": true
      },
      "outputs": [],
      "execution_count": null
    },
    {
      "id": "d06de10e-3357-4f7d-8502-2db2383de0dd",
      "cell_type": "markdown",
      "source": "# Start Coding Here",
      "metadata": {}
    },
    {
      "id": "2db6ae0f-a758-4fac-baec-828650e78c07",
      "cell_type": "code",
      "source": "",
      "metadata": {
        "trusted": true
      },
      "outputs": [],
      "execution_count": null
    }
  ]
}