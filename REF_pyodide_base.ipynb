{
  "metadata": {
    "kernelspec": {
      "name": "python",
      "display_name": "Python (Pyodide)",
      "language": "python"
    },
    "language_info": {
      "codemirror_mode": {
        "name": "python",
        "version": 3
      },
      "file_extension": ".py",
      "mimetype": "text/x-python",
      "name": "python",
      "nbconvert_exporter": "python",
      "pygments_lexer": "ipython3",
      "version": "3.8"
    }
  },
  "nbformat_minor": 5,
  "nbformat": 4,
  "cells": [
    {
      "id": "3ef81a1c-6d75-469a-9d7e-79707b34ed5e",
      "cell_type": "markdown",
      "source": "# Install and Load Packages ",
      "metadata": {}
    },
    {
      "id": "be7ca6a0-441f-4fc5-a1b1-bc91aac5f9f7",
      "cell_type": "code",
      "source": "%pip install numpy_financial\n%pip install plotnine==0.12.1\n%pip install pandas\n%pip install statsmodels\n\nimport numpy_financial as npf\nimport pandas as pd\nimport plotnine as p9\nimport statsmodels.api as sm\n",
      "metadata": {
        "trusted": true
      },
      "outputs": [],
      "execution_count": 3
    },
    {
      "id": "03fbec6a-b9e0-4fc7-98e6-55f0bca097e2",
      "cell_type": "markdown",
      "source": "# Start Coding Here:",
      "metadata": {}
    },
    {
      "id": "44b4b5e4-4410-4c7a-a15d-a869b6a0b01e",
      "cell_type": "code",
      "source": "",
      "metadata": {
        "trusted": true
      },
      "outputs": [],
      "execution_count": null
    }
  ]
}