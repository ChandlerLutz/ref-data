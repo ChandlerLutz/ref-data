{
  "metadata": {
    "kernelspec": {
      "name": "python",
      "display_name": "Python (Pyodide)",
      "language": "python"
    },
    "language_info": {
      "codemirror_mode": {
        "name": "python",
        "version": 3
      },
      "file_extension": ".py",
      "mimetype": "text/x-python",
      "name": "python",
      "nbconvert_exporter": "python",
      "pygments_lexer": "ipython3",
      "version": "3.8"
    }
  },
  "nbformat_minor": 5,
  "nbformat": 4,
  "cells": [
    {
      "id": "b6715408-47a9-4b44-b130-633103458d37",
      "cell_type": "markdown",
      "source": "# Install Packages ",
      "metadata": {}
    },
    {
      "id": "3859b8d2-f72f-49ac-8edc-33f18af902c5",
      "cell_type": "code",
      "source": "import importlib\nimport asyncio\n\n# List of packages to check/install\npkgs_to_check = [\"numpy_financial\", \"pandas\", \"plotnine\", \"numpy\"]\n\nasync def install_and_import_packages():\n    \"\"\"\n    Attempts to import packages, and if not found, tries to install them\n    using micropip in a Pyodide environment.\n    \"\"\"\n    try:\n        import micropip\n        print(\"Running in Pyodide. Using micropip.\")\n    except ImportError:\n        print(\"Not in Pyodide. Micropip not found. This code is for Pyodide/JupyterLite.\")\n        return\n\n    for pkg in pkgs_to_check:\n        if pkg == \"math\": # 'math' is a built-in module\n            print(f\"'{pkg}' is built-in.\")\n            continue\n\n        try:\n            importlib.import_module(pkg)\n            print(f\"'{pkg}' is available.\")\n        except ImportError:\n            print(f\"'{pkg}' not found. Installing...\")\n            try:\n                await micropip.install(pkg)\n                print(f\"'{pkg}' installed successfully.\")\n            except Exception as e:\n                print(f\"Error installing '{pkg}': {e}\")\n                print(\"Note: Packages with C extensions may not install in Pyodide.\")\n\n# Run the async function\nasyncio.create_task(install_and_import_packages())",
      "metadata": {
        "trusted": true,
        "jupyter": {
          "source_hidden": true
        }
      },
      "outputs": [
        {
          "execution_count": 3,
          "output_type": "execute_result",
          "data": {
            "text/plain": "<PyodideTask pending name='Task-118' coro=<install_and_import_packages() running at <ipython-input-3-8ea626d8b152>:7> cb=[WebLoop._decrement_in_progress()]>"
          },
          "metadata": {}
        },
        {
          "name": "stdout",
          "output_type": "stream",
          "text": "Running in Pyodide. Using micropip.\n'numpy_financial' is available.\n'pandas' is available.\n'plotnine' is available.\n'numpy' is available.\n"
        }
      ],
      "execution_count": 3
    },
    {
      "id": "2ebf181e-cc7b-45ce-9499-1ffa7e9efff6",
      "cell_type": "markdown",
      "source": "# Import Packages",
      "metadata": {}
    },
    {
      "id": "6fe99e14-8891-49a2-a205-3775089724f7",
      "cell_type": "code",
      "source": "import pandas as pd\nimport numpy_financial as npf\nimport plotnine as p9\n\n# Add more package imports as you need them here:",
      "metadata": {
        "trusted": true
      },
      "outputs": [],
      "execution_count": 4
    },
    {
      "id": "b56e315a-b2b7-4df6-9b90-38e174f51b05",
      "cell_type": "markdown",
      "source": "# Start Coding Here",
      "metadata": {}
    },
    {
      "id": "e3c0d966-0efa-4300-b57e-1a4ac4afc8ce",
      "cell_type": "code",
      "source": "",
      "metadata": {
        "trusted": true
      },
      "outputs": [],
      "execution_count": null
    }
  ]
}