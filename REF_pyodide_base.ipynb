{
  "cells": [
    {
      "cell_type": "markdown",
      "id": "f40e1fe9-ff41-465c-b552-c9d13086facb",
      "metadata": {},
      "source": [
        "# Install Packages"
      ]
    },
    {
      "cell_type": "code",
      "execution_count": null,
      "id": "3943faa6-b7ef-47e9-8fc8-775904945ae0",
      "metadata": {
        "trusted": true
      },
      "outputs": [],
      "source": [
        "import importlib\n",
        "import asyncio\n",
        "\n",
        "# List of packages to check/install\n",
        "pkgs_to_check = [\"numpy_financial\", \"pandas\", \"plotnine\", \"numpy\", \"statsmodels\"]\n",
        "\n",
        "async def install_and_import_packages():\n",
        "    \"\"\"\n",
        "    Attempts to import packages, and if not found, tries to install them\n",
        "    using micropip in a Pyodide environment.\n",
        "    \"\"\"\n",
        "    try:\n",
        "        import micropip\n",
        "        print(\"Running in Pyodide. Using micropip.\")\n",
        "    except ImportError:\n",
        "        print(\"Not in Pyodide. Micropip not found. This code is for Pyodide/JupyterLite.\")\n",
        "        return\n",
        "\n",
        "    for pkg in pkgs_to_check:\n",
        "        if pkg == \"math\": # 'math' is a built-in module\n",
        "            print(f\"'{pkg}' is built-in.\")\n",
        "            continue\n",
        "\n",
        "        try:\n",
        "            importlib.import_module(pkg)\n",
        "            print(f\"'{pkg}' is available.\")\n",
        "        except ImportError:\n",
        "            print(f\"'{pkg}' not found. Installing...\")\n",
        "            try:\n",
        "                await micropip.install(pkg)\n",
        "                print(f\"'{pkg}' installed successfully.\")\n",
        "            except Exception as e:\n",
        "                print(f\"Error installing '{pkg}': {e}\")\n",
        "                print(\"Note: Packages with C extensions may not install in Pyodide.\")\n",
        "\n",
        "# Run the async function\n",
        "asyncio.create_task(install_and_import_packages())"
      ]
    },
    {
      "cell_type": "markdown",
      "id": "68b6e304-cbc9-48fe-bbbc-b20dd2ce671d",
      "metadata": {},
      "source": [
        "# Import Packages"
      ]
    },
    {
      "cell_type": "code",
      "execution_count": null,
      "id": "94aa0e1c-3629-4c63-b40e-9a59a5e07b94",
      "metadata": {
        "trusted": true
      },
      "outputs": [],
      "source": [
        "import numpy_financial as npf\n",
        "import pandas as pd\n",
        "import plotnine as p9\n",
        "import statsmodels.api as sm\n",
        "\n",
        "# Add more package imports as you need them here:\n"
      ]
    },
    {
      "cell_type": "markdown",
      "id": "d06de10e-3357-4f7d-8502-2db2383de0dd",
      "metadata": {},
      "source": [
        "# Start Coding Here"
      ]
    },
    {
      "cell_type": "code",
      "execution_count": null,
      "id": "2db6ae0f-a758-4fac-baec-828650e78c07",
      "metadata": {
        "trusted": true
      },
      "outputs": [],
      "source": []
    }
  ],
  "metadata": {
    "kernelspec": {
      "display_name": "Python (Pyodide)",
      "language": "python",
      "name": "python"
    },
    "language_info": {
      "name": "python"
    }
  },
  "nbformat": 4,
  "nbformat_minor": 5
}
